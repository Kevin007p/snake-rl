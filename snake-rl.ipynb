{
 "cells": [
  {
   "cell_type": "code",
   "execution_count": 6,
   "id": "6b78be39",
   "metadata": {},
   "outputs": [],
   "source": [
    "# (Uncomment if you need to install)\n",
    "#pip install pygame gym torch torchvision numpy matplotlib\n",
    "\n",
    "import os\n",
    "import random\n",
    "import numpy as np\n",
    "import pygame\n",
    "from collections import deque, namedtuple\n",
    "import torch\n",
    "import torch.nn as nn\n",
    "import torch.optim as optim\n",
    "import matplotlib.pyplot as plt\n",
    "from itertools import count\n"
   ]
  },
  {
   "cell_type": "code",
   "execution_count": 7,
   "id": "22c2aadf",
   "metadata": {},
   "outputs": [
    {
     "name": "stdout",
     "output_type": "stream",
     "text": [
      "Using device: cpu\n"
     ]
    }
   ],
   "source": [
    "SEED = 42\n",
    "random.seed(SEED)\n",
    "np.random.seed(SEED)\n",
    "torch.manual_seed(SEED)\n",
    "\n",
    "device = torch.device(\"cuda\" if torch.cuda.is_available() else \"cpu\")\n",
    "print(\"Using device:\", device)\n"
   ]
  },
  {
   "cell_type": "code",
   "execution_count": 16,
   "id": "d26459cc",
   "metadata": {},
   "outputs": [],
   "source": [
    "class SnakeEnv:\n",
    "    def __init__(self, width=10, height=10, block_size=20):\n",
    "        pygame.init()\n",
    "        self.width, self.height, self.block = width, height, block_size\n",
    "        # use self.block, not block\n",
    "        self.display = pygame.Surface((self.width * self.block,\n",
    "                                       self.height * self.block))\n",
    "        self.clock = pygame.time.Clock()\n",
    "        self.reset()\n",
    "\n",
    "    def reset(self):\n",
    "        self.direction = (1, 0)\n",
    "        self.snake = [(self.width//2, self.height//2)]\n",
    "        self._place_food()\n",
    "        self.done, self.score = False, 0\n",
    "        return self._get_obs()\n",
    "\n",
    "    def _place_food(self):\n",
    "        import random\n",
    "        while True:\n",
    "            self.food = (random.randrange(self.width),\n",
    "                         random.randrange(self.height))\n",
    "            if self.food not in self.snake:\n",
    "                break\n",
    "\n",
    "    def _get_obs(self):\n",
    "        grid = np.zeros((self.width, self.height), dtype=np.int8)\n",
    "        for x,y in self.snake: grid[x,y] = 1\n",
    "        fx,fy = self.food; grid[fx,fy] = 2\n",
    "        return grid.flatten().astype(np.float32)\n",
    "\n",
    "    def step(self, action):\n",
    "        dirs = [(-1,0),(0,1),(1,0),(0,-1)]\n",
    "        new_dir = dirs[action]\n",
    "        if (new_dir[0]==-self.direction[0] and\n",
    "            new_dir[1]==-self.direction[1]):\n",
    "            new_dir = self.direction\n",
    "        self.direction = new_dir\n",
    "\n",
    "        head = (self.snake[0][0]+new_dir[0],\n",
    "                self.snake[0][1]+new_dir[1])\n",
    "        if (not 0<=head[0]<self.width or\n",
    "            not 0<=head[1]<self.height or\n",
    "            head in self.snake):\n",
    "            self.done = True\n",
    "            return self._get_obs(), -10, True, {}\n",
    "\n",
    "        self.snake.insert(0, head)\n",
    "        if head == self.food:\n",
    "            reward, self.score = 10, self.score+1\n",
    "            self._place_food()\n",
    "        else:\n",
    "            reward = 0\n",
    "            self.snake.pop()\n",
    "\n",
    "        return self._get_obs(), reward, False, {}\n",
    "\n",
    "    # Inside your SnakeEnv class, overwrite render() with:\n",
    "\n",
    "    def render(self):\n",
    "        \"\"\"\n",
    "        Return a (H_px, W_px, 3) uint8 image of the game:\n",
    "         - snake in green, food in red, background black.\n",
    "        \"\"\"\n",
    "        H_px = self.height * self.block\n",
    "        W_px = self.width  * self.block\n",
    "        frame = np.zeros((H_px, W_px, 3), dtype=np.uint8)\n",
    "\n",
    "        # Draw snake\n",
    "        for x, y in self.snake:\n",
    "            y0, y1 = y*self.block, (y+1)*self.block\n",
    "            x0, x1 = x*self.block, (x+1)*self.block\n",
    "            frame[y0:y1, x0:x1] = np.array([0,255,0], dtype=np.uint8)\n",
    "\n",
    "        # Draw food\n",
    "        fx, fy = self.food\n",
    "        y0, y1 = fy*self.block, (fy+1)*self.block\n",
    "        x0, x1 = fx*self.block, (fx+1)*self.block\n",
    "        frame[y0:y1, x0:x1] = np.array([255,0,0], dtype=np.uint8)\n",
    "\n",
    "        return frame\n",
    "\n"
   ]
  },
  {
   "cell_type": "code",
   "execution_count": 23,
   "id": "a856fb35",
   "metadata": {},
   "outputs": [
    {
     "data": {
      "image/png": "[encoded data removed]",
      "text/plain": [
       "<Figure size 640x480 with 1 Axes>"
      ]
     },
     "metadata": {},
     "output_type": "display_data"
    }
   ],
   "source": [
    "# Test cell – display the raw NumPy frame\n",
    "env = SnakeEnv(width=10, height=10, block_size=20)\n",
    "obs = env.reset()\n",
    "frame = env.render()   # now an (H_px, W_px, 3) array\n",
    "\n",
    "import matplotlib.pyplot as plt\n",
    "plt.imshow(frame)\n",
    "plt.axis('off')\n",
    "plt.show()\n"
   ]
  },
  {
   "cell_type": "code",
   "execution_count": 24,
   "id": "4b8a24f0",
   "metadata": {},
   "outputs": [
    {
     "name": "stdout",
     "output_type": "stream",
     "text": [
      "Sampled batch: [Transition(state=array([0., 0., 0., 0., 0., 0., 0., 0., 0., 0., 0., 0., 0., 0., 0., 0., 0.,\n",
      "       0., 2., 0., 0., 0., 0., 0., 0., 0., 0., 0., 0., 0., 0., 0., 0., 0.,\n",
      "       0., 0., 0., 0., 0., 0., 0., 0., 0., 0., 0., 0., 0., 0., 0., 0., 0.,\n",
      "       0., 0., 0., 0., 1., 0., 0., 0., 0., 0., 0., 0., 0., 0., 0., 0., 0.,\n",
      "       0., 0., 0., 0., 0., 0., 0., 0., 0., 0., 0., 0., 0., 0., 0., 0., 0.,\n",
      "       0., 0., 0., 0., 0., 0., 0., 0., 0., 0., 0., 0., 0., 0., 0.],\n",
      "      dtype=float32), action=0, reward=1.0, next_state=array([0., 0., 0., 0., 0., 0., 0., 0., 0., 0., 0., 0., 0., 0., 0., 0., 0.,\n",
      "       0., 2., 0., 0., 0., 0., 0., 0., 0., 0., 0., 0., 0., 0., 0., 0., 0.,\n",
      "       0., 0., 0., 0., 0., 0., 0., 0., 0., 0., 0., 0., 0., 0., 0., 0., 0.,\n",
      "       0., 0., 0., 0., 1., 0., 0., 0., 0., 0., 0., 0., 0., 0., 0., 0., 0.,\n",
      "       0., 0., 0., 0., 0., 0., 0., 0., 0., 0., 0., 0., 0., 0., 0., 0., 0.,\n",
      "       0., 0., 0., 0., 0., 0., 0., 0., 0., 0., 0., 0., 0., 0., 0.],\n",
      "      dtype=float32), done=False)]\n",
      "Buffer length: 1\n"
     ]
    }
   ],
   "source": [
    "from collections import deque, namedtuple\n",
    "import random\n",
    "\n",
    "# Define a transition tuple\n",
    "Transition = namedtuple('Transition',\n",
    "                        ('state', 'action', 'reward', 'next_state', 'done'))\n",
    "\n",
    "class ReplayMemory:\n",
    "    def __init__(self, capacity):\n",
    "        self.memory = deque(maxlen=capacity)\n",
    "\n",
    "    def push(self, *args):\n",
    "        \"\"\"Save a transition.\"\"\"\n",
    "        self.memory.append(Transition(*args))\n",
    "\n",
    "    def sample(self, batch_size):\n",
    "        \"\"\"Randomly sample a batch of transitions.\"\"\"\n",
    "        return random.sample(self.memory, batch_size)\n",
    "\n",
    "    def __len__(self):\n",
    "        return len(self.memory)\n",
    "\n",
    "\n",
    "# Instantiate and test\n",
    "memory = ReplayMemory(capacity=1000)\n",
    "\n",
    "# Push a dummy transition\n",
    "dummy_state  = env.reset()\n",
    "dummy_action = 0\n",
    "dummy_reward = 1.0\n",
    "dummy_next   = dummy_state\n",
    "dummy_done   = False\n",
    "memory.push(dummy_state, dummy_action, dummy_reward, dummy_next, dummy_done)\n",
    "\n",
    "# Sample should return a list of length 1\n",
    "batch = memory.sample(1)\n",
    "print(\"Sampled batch:\", batch)\n",
    "print(\"Buffer length:\", len(memory))\n"
   ]
  },
  {
   "cell_type": "code",
   "execution_count": 25,
   "id": "eab9ef37",
   "metadata": {},
   "outputs": [
    {
     "data": {
      "text/plain": [
       "<All keys matched successfully>"
      ]
     },
     "execution_count": 25,
     "metadata": {},
     "output_type": "execute_result"
    }
   ],
   "source": [
    "# Cell 7 – DQN Network Definition\n",
    "\n",
    "import torch.nn as nn\n",
    "\n",
    "state_dim  = env.width * env.height    # flattened grid size\n",
    "action_dim = 4                         # up, right, down, left\n",
    "\n",
    "class DQN(nn.Module):\n",
    "    def __init__(self):\n",
    "        super().__init__()\n",
    "        self.net = nn.Sequential(\n",
    "            nn.Linear(state_dim, 128),\n",
    "            nn.ReLU(),\n",
    "            nn.Linear(128, 128),\n",
    "            nn.ReLU(),\n",
    "            nn.Linear(128, action_dim)\n",
    "        )\n",
    "\n",
    "    def forward(self, x):\n",
    "        return self.net(x)\n",
    "\n",
    "# Instantiate policy and target networks\n",
    "policy_net = DQN().to(device)\n",
    "target_net = DQN().to(device)\n",
    "# Initialize target to match policy\n",
    "target_net.load_state_dict(policy_net.state_dict())\n"
   ]
  },
  {
   "cell_type": "code",
   "execution_count": 26,
   "id": "5aeab4fd",
   "metadata": {},
   "outputs": [],
   "source": [
    "# Cell 8 – Action Selection, Optimizer, and DQN Update\n",
    "\n",
    "import torch.optim as optim\n",
    "import torch.nn.functional as F\n",
    "\n",
    "# ε‑greedy action selection\n",
    "def select_action(state, eps):\n",
    "    \"\"\"\n",
    "    state: 1D numpy array of length state_dim\n",
    "    eps: float between 0 and 1\n",
    "    returns: int action in [0, action_dim)\n",
    "    \"\"\"\n",
    "    if random.random() < eps:\n",
    "        return random.randrange(action_dim)\n",
    "    # otherwise pick best Q-value action\n",
    "    state_v = torch.from_numpy(state).unsqueeze(0).to(device)   # shape [1, state_dim]\n",
    "    with torch.no_grad():\n",
    "        q_vals = policy_net(state_v)                            # shape [1, action_dim]\n",
    "    return int(q_vals.argmax(dim=1).item())\n",
    "\n",
    "# Optimizer\n",
    "optimizer = optim.Adam(policy_net.parameters(), lr=1e-3)\n",
    "\n",
    "# Single DQN update step\n",
    "def optimize_dqn(batch_size, gamma):\n",
    "    if len(memory) < batch_size:\n",
    "        return\n",
    "\n",
    "    # Sample a batch\n",
    "    transitions = memory.sample(batch_size)\n",
    "    batch = Transition(*zip(*transitions))\n",
    "\n",
    "    # Convert to tensors\n",
    "    states      = torch.tensor(batch.state,      dtype=torch.float32, device=device)\n",
    "    actions     = torch.tensor(batch.action,     dtype=torch.int64,   device=device).unsqueeze(1)\n",
    "    rewards     = torch.tensor(batch.reward,     dtype=torch.float32, device=device).unsqueeze(1)\n",
    "    next_states = torch.tensor(batch.next_state, dtype=torch.float32, device=device)\n",
    "    dones       = torch.tensor(batch.done,       dtype=torch.float32, device=device).unsqueeze(1)\n",
    "\n",
    "    # Current Q values\n",
    "    q_values = policy_net(states).gather(1, actions)   # shape [batch_size, 1]\n",
    "\n",
    "    # Next state values from target network\n",
    "    next_q = target_net(next_states).max(1)[0].detach().unsqueeze(1)\n",
    "    expected_q = rewards + gamma * next_q * (1.0 - dones)\n",
    "\n",
    "    # Compute loss and backprop\n",
    "    loss = F.mse_loss(q_values, expected_q)\n",
    "    optimizer.zero_grad()\n",
    "    loss.backward()\n",
    "    optimizer.step()\n"
   ]
  },
  {
   "cell_type": "code",
   "execution_count": 27,
   "id": "d74a210f",
   "metadata": {},
   "outputs": [
    {
     "name": "stdout",
     "output_type": "stream",
     "text": [
      "Config: {'gamma': 0.99, 'batch_size': 64, 'eps_start': 1.0, 'eps_end': 0.01, 'eps_decay': 1000, 'target_update': 10, 'num_episodes': 500}\n",
      "Checkpoint will be saved to: checkpoints/dqn_snake.pth\n"
     ]
    }
   ],
   "source": [
    "# Cell 9 – Hyperparameters & Checkpoints\n",
    "\n",
    "# RL hyperparameters\n",
    "config = {\n",
    "    \"gamma\":           0.99,    # discount factor\n",
    "    \"batch_size\":      64,      # replay batch size\n",
    "    \"eps_start\":       1.0,     # initial ε for ε‑greedy\n",
    "    \"eps_end\":         0.01,    # final ε\n",
    "    \"eps_decay\":       1000,    # decay rate for ε\n",
    "    \"target_update\":   10,      # episodes between target network sync\n",
    "    \"num_episodes\":    500      # total training episodes\n",
    "}\n",
    "\n",
    "# Checkpoint directory and file\n",
    "ckpt_dir  = \"checkpoints\"\n",
    "ckpt_path = os.path.join(ckpt_dir, \"dqn_snake.pth\")\n",
    "os.makedirs(ckpt_dir, exist_ok=True)\n",
    "\n",
    "print(\"Config:\", config)\n",
    "print(\"Checkpoint will be saved to:\", ckpt_path)\n"
   ]
  },
  {
   "cell_type": "code",
   "execution_count": 28,
   "id": "de48e91f",
   "metadata": {},
   "outputs": [
    {
     "name": "stdout",
     "output_type": "stream",
     "text": [
      "No checkpoint found, starting from scratch.\n",
      "Checkpoint saved to checkpoints/dqn_snake.pth\n",
      "Loaded checkpoint from checkpoints/dqn_snake.pth\n"
     ]
    },
    {
     "name": "stderr",
     "output_type": "stream",
     "text": [
      "/var/folders/5t/35w5sh2n3r196t69kjv4ldm00000gn/T/ipykernel_10131/1756321651.py:14: FutureWarning: You are using `torch.load` with `weights_only=False` (the current default value), which uses the default pickle module implicitly. It is possible to construct malicious pickle data which will execute arbitrary code during unpickling (See https://github.com/pytorch/pytorch/blob/main/SECURITY.md#untrusted-models for more details). In a future release, the default value for `weights_only` will be flipped to `True`. This limits the functions that could be executed during unpickling. Arbitrary objects will no longer be allowed to be loaded via this mode unless they are explicitly allowlisted by the user via `torch.serialization.add_safe_globals`. We recommend you start setting `weights_only=True` for any use case where you don't have full control of the loaded file. Please open an issue on GitHub for any issues related to this experimental feature.\n",
      "  checkpoint = torch.load(ckpt_path, map_location=device)\n"
     ]
    }
   ],
   "source": [
    "# Cell 10 – Checkpoint Save & Load\n",
    "\n",
    "def save_checkpoint():\n",
    "    \"\"\"Save policy network and optimizer states.\"\"\"\n",
    "    torch.save({\n",
    "        \"policy_state_dict\": policy_net.state_dict(),\n",
    "        \"optimizer_state_dict\": optimizer.state_dict(),\n",
    "    }, ckpt_path)\n",
    "    print(f\"Checkpoint saved to {ckpt_path}\")\n",
    "\n",
    "def load_checkpoint():\n",
    "    \"\"\"Load policy network and optimizer states if available.\"\"\"\n",
    "    if os.path.exists(ckpt_path):\n",
    "        checkpoint = torch.load(ckpt_path, map_location=device)\n",
    "        policy_net.load_state_dict(checkpoint[\"policy_state_dict\"])\n",
    "        optimizer.load_state_dict(checkpoint[\"optimizer_state_dict\"])\n",
    "        target_net.load_state_dict(policy_net.state_dict())\n",
    "        print(f\"Loaded checkpoint from {ckpt_path}\")\n",
    "    else:\n",
    "        print(\"No checkpoint found, starting from scratch.\")\n",
    "\n",
    "# Test load & save\n",
    "load_checkpoint()        # Expect “No checkpoint found...” on first run\n",
    "save_checkpoint()        # Should print confirmation\n",
    "load_checkpoint()        # Now should load successfully\n"
   ]
  },
  {
   "cell_type": "code",
   "execution_count": 29,
   "id": "538b606b",
   "metadata": {},
   "outputs": [
    {
     "name": "stdout",
     "output_type": "stream",
     "text": [
      "Episode  1 | Reward: -10\n",
      "Episode  2 | Reward: -10\n",
      "Episode  3 | Reward: -10\n",
      "Episode  4 | Reward: -10\n",
      "Episode  5 | Reward: -10\n"
     ]
    },
    {
     "name": "stderr",
     "output_type": "stream",
     "text": [
      "/var/folders/5t/35w5sh2n3r196t69kjv4ldm00000gn/T/ipykernel_10131/364825624.py:34: UserWarning: Creating a tensor from a list of numpy.ndarrays is extremely slow. Please consider converting the list to a single numpy.ndarray with numpy.array() before converting to a tensor. (Triggered internally at /Users/runner/work/_temp/anaconda/conda-bld/pytorch_1729647038473/work/torch/csrc/utils/tensor_new.cpp:281.)\n",
      "  states      = torch.tensor(batch.state,      dtype=torch.float32, device=device)\n"
     ]
    },
    {
     "name": "stdout",
     "output_type": "stream",
     "text": [
      "Episode  6 | Reward: -10\n",
      "Episode  7 | Reward: -10\n",
      "Episode  8 | Reward: -10\n",
      "Episode  9 | Reward: -10\n",
      "Episode 10 | Reward: -10\n",
      "Episode 11 | Reward: -10\n",
      "Episode 12 | Reward: -10\n",
      "Episode 13 | Reward: -10\n",
      "Episode 14 | Reward: -10\n",
      "Episode 15 | Reward: -10\n",
      "Episode 16 | Reward: -10\n",
      "Episode 17 | Reward: -10\n",
      "Episode 18 | Reward: -10\n",
      "Episode 19 | Reward: -10\n",
      "Episode 20 | Reward: -10\n",
      "Checkpoint saved to checkpoints/dqn_snake.pth\n"
     ]
    }
   ],
   "source": [
    "# Cell 11 – Training Loop (test run for a few episodes)\n",
    "\n",
    "episode_rewards = []\n",
    "steps_done = 0\n",
    "\n",
    "def get_epsilon(step):\n",
    "    \"\"\"Exponential decay from eps_start to eps_end.\"\"\"\n",
    "    return config[\"eps_end\"] + (config[\"eps_start\"] - config[\"eps_end\"]) * \\\n",
    "           np.exp(-1. * step / config[\"eps_decay\"])\n",
    "\n",
    "# Run a brief training to check integration\n",
    "for ep in range(1, 21):  # just 20 episodes for a quick test\n",
    "    state = env.reset()\n",
    "    total_reward = 0\n",
    "    \n",
    "    while True:\n",
    "        eps = get_epsilon(steps_done)\n",
    "        action = select_action(state, eps)\n",
    "        next_state, reward, done, _ = env.step(action)\n",
    "        \n",
    "        # Store transition and learn\n",
    "        memory.push(state, action, reward, next_state, done)\n",
    "        optimize_dqn(config[\"batch_size\"], config[\"gamma\"])\n",
    "        \n",
    "        state = next_state\n",
    "        total_reward += reward\n",
    "        steps_done += 1\n",
    "        \n",
    "        if done:\n",
    "            break\n",
    "\n",
    "    episode_rewards.append(total_reward)\n",
    "    \n",
    "    # Periodically update target network\n",
    "    if ep % config[\"target_update\"] == 0:\n",
    "        target_net.load_state_dict(policy_net.state_dict())\n",
    "    \n",
    "    # Print progress\n",
    "    print(f\"Episode {ep:2d} | Reward: {total_reward}\")\n",
    "\n",
    "# Save final checkpoint\n",
    "save_checkpoint()\n"
   ]
  },
  {
   "cell_type": "code",
   "execution_count": 34,
   "id": "0bd41e84",
   "metadata": {},
   "outputs": [
    {
     "data": {
      "image/png": "[encoded data removed]",
      "text/plain": [
       "<Figure size 800x400 with 1 Axes>"
      ]
     },
     "metadata": {},
     "output_type": "display_data"
    }
   ],
   "source": [
    "# Cell 12 – Training Rewards Visualization\n",
    "\n",
    "import matplotlib.pyplot as plt\n",
    "\n",
    "plt.figure(figsize=(8, 4))\n",
    "plt.plot(episode_rewards, label=\"Episode Reward\")\n",
    "plt.title(\"DQN Training Rewards over Episodes\")\n",
    "plt.xlabel(\"Episode\")\n",
    "plt.ylabel(\"Total Reward\")\n",
    "plt.grid(True)\n",
    "plt.legend()\n",
    "plt.show()\n"
   ]
  },
  {
   "cell_type": "code",
   "execution_count": 35,
   "id": "e56420a2",
   "metadata": {},
   "outputs": [
    {
     "ename": "KeyboardInterrupt",
     "evalue": "",
     "output_type": "error",
     "traceback": [
      "\u001b[0;31m---------------------------------------------------------------------------\u001b[0m",
      "\u001b[0;31mKeyboardInterrupt\u001b[0m                         Traceback (most recent call last)",
      "Cell \u001b[0;32mIn[35], line 22\u001b[0m\n\u001b[1;32m     19\u001b[0m     \u001b[38;5;28;01mreturn\u001b[39;00m scores\n\u001b[1;32m     21\u001b[0m \u001b[38;5;66;03m# Run evaluation\u001b[39;00m\n\u001b[0;32m---> 22\u001b[0m eval_scores \u001b[38;5;241m=\u001b[39m evaluate_policy(policy_net, env, n_episodes\u001b[38;5;241m=\u001b[39m\u001b[38;5;241m20\u001b[39m)\n\u001b[1;32m     23\u001b[0m \u001b[38;5;28mprint\u001b[39m(\u001b[38;5;124mf\u001b[39m\u001b[38;5;124m\"\u001b[39m\u001b[38;5;124mEvaluation over 20 episodes: mean=\u001b[39m\u001b[38;5;132;01m{\u001b[39;00mnp\u001b[38;5;241m.\u001b[39mmean(eval_scores)\u001b[38;5;132;01m:\u001b[39;00m\u001b[38;5;124m.2f\u001b[39m\u001b[38;5;132;01m}\u001b[39;00m\u001b[38;5;124m, \u001b[39m\u001b[38;5;124m\"\u001b[39m\n\u001b[1;32m     24\u001b[0m       \u001b[38;5;124mf\u001b[39m\u001b[38;5;124m\"\u001b[39m\u001b[38;5;124mstd=\u001b[39m\u001b[38;5;132;01m{\u001b[39;00mnp\u001b[38;5;241m.\u001b[39mstd(eval_scores)\u001b[38;5;132;01m:\u001b[39;00m\u001b[38;5;124m.2f\u001b[39m\u001b[38;5;132;01m}\u001b[39;00m\u001b[38;5;124m\"\u001b[39m)\n",
      "Cell \u001b[0;32mIn[35], line 14\u001b[0m, in \u001b[0;36mevaluate_policy\u001b[0;34m(net, env, n_episodes)\u001b[0m\n\u001b[1;32m     11\u001b[0m \u001b[38;5;28;01mwhile\u001b[39;00m \u001b[38;5;129;01mnot\u001b[39;00m done:\n\u001b[1;32m     12\u001b[0m     \u001b[38;5;66;03m# always pick greedy action\u001b[39;00m\n\u001b[1;32m     13\u001b[0m     state_v \u001b[38;5;241m=\u001b[39m torch\u001b[38;5;241m.\u001b[39mfrom_numpy(state)\u001b[38;5;241m.\u001b[39munsqueeze(\u001b[38;5;241m0\u001b[39m)\u001b[38;5;241m.\u001b[39mto(device)\n\u001b[0;32m---> 14\u001b[0m     action \u001b[38;5;241m=\u001b[39m net(state_v)\u001b[38;5;241m.\u001b[39margmax(dim\u001b[38;5;241m=\u001b[39m\u001b[38;5;241m1\u001b[39m)\u001b[38;5;241m.\u001b[39mitem()\n\u001b[1;32m     15\u001b[0m     state, reward, done, _ \u001b[38;5;241m=\u001b[39m env\u001b[38;5;241m.\u001b[39mstep(action)\n\u001b[1;32m     16\u001b[0m     total \u001b[38;5;241m+\u001b[39m\u001b[38;5;241m=\u001b[39m reward\n",
      "\u001b[0;31mKeyboardInterrupt\u001b[0m: "
     ]
    }
   ],
   "source": [
    "# Cell 13 – Policy Evaluation (no exploration)\n",
    "\n",
    "def evaluate_policy(net, env, n_episodes=10):\n",
    "    net.eval()\n",
    "    scores = []\n",
    "    with torch.no_grad():\n",
    "        for _ in range(n_episodes):\n",
    "            state = env.reset()\n",
    "            total = 0\n",
    "            done = False\n",
    "            while not done:\n",
    "                # always pick greedy action\n",
    "                state_v = torch.from_numpy(state).unsqueeze(0).to(device)\n",
    "                action = net(state_v).argmax(dim=1).item()\n",
    "                state, reward, done, _ = env.step(action)\n",
    "                total += reward\n",
    "            scores.append(total)\n",
    "    net.train()\n",
    "    return scores\n",
    "\n",
    "# Run evaluation\n",
    "eval_scores = evaluate_policy(policy_net, env, n_episodes=20)\n",
    "print(f\"Evaluation over 20 episodes: mean={np.mean(eval_scores):.2f}, \"\n",
    "      f\"std={np.std(eval_scores):.2f}\")\n"
   ]
  },
  {
   "cell_type": "code",
   "execution_count": 32,
   "id": "d3e6cf79",
   "metadata": {},
   "outputs": [
    {
     "data": {
      "image/png": "[encoded data removed]",
      "text/plain": [
       "<Figure size 600x400 with 1 Axes>"
      ]
     },
     "metadata": {},
     "output_type": "display_data"
    }
   ],
   "source": [
    "# Cell 14 – Evaluation Score Distribution\n",
    "\n",
    "import matplotlib.pyplot as plt\n",
    "\n",
    "plt.figure(figsize=(6,4))\n",
    "plt.hist(eval_scores, bins=range(min(eval_scores), max(eval_scores)+2), align='left', rwidth=0.8)\n",
    "plt.title(\"Distribution of Evaluation Rewards\")\n",
    "plt.xlabel(\"Total Reward per Episode\")\n",
    "plt.ylabel(\"Count\")\n",
    "plt.show()\n"
   ]
  },
  {
   "cell_type": "code",
   "execution_count": 33,
   "id": "763c1a8f",
   "metadata": {},
   "outputs": [
    {
     "name": "stdout",
     "output_type": "stream",
     "text": [
      "Episode  50 | Reward: -10\n",
      "Episode 100 | Reward: -10\n",
      "Episode 150 | Reward: -10\n",
      "Episode 200 | Reward: -10\n",
      "Episode 250 | Reward: -10\n",
      "Episode 300 | Reward: -10\n",
      "Episode 350 | Reward: -10\n",
      "Episode 400 | Reward: -10\n",
      "Episode 450 | Reward: -10\n",
      "Episode 500 | Reward: -10\n",
      "Checkpoint saved to checkpoints/dqn_snake.pth\n"
     ]
    }
   ],
   "source": [
    "# Cell 15 – Full Training Run\n",
    "\n",
    "# (Re‑initialize if you’d like to start fresh; otherwise you’ll resume from checkpoint)\n",
    "# load_checkpoint()\n",
    "\n",
    "episode_rewards = []\n",
    "steps_done = 0\n",
    "\n",
    "for ep in range(1, config[\"num_episodes\"] + 1):\n",
    "    state = env.reset()\n",
    "    total_reward = 0\n",
    "    \n",
    "    while True:\n",
    "        eps = get_epsilon(steps_done)\n",
    "        action = select_action(state, eps)\n",
    "        next_state, reward, done, _ = env.step(action)\n",
    "\n",
    "        memory.push(state, action, reward, next_state, done)\n",
    "        optimize_dqn(config[\"batch_size\"], config[\"gamma\"])\n",
    "\n",
    "        state = next_state\n",
    "        total_reward += reward\n",
    "        steps_done += 1\n",
    "\n",
    "        if done:\n",
    "            break\n",
    "\n",
    "    episode_rewards.append(total_reward)\n",
    "\n",
    "    # Update target network periodically\n",
    "    if ep % config[\"target_update\"] == 0:\n",
    "        target_net.load_state_dict(policy_net.state_dict())\n",
    "\n",
    "    # Log progress every 50 episodes\n",
    "    if ep % 50 == 0:\n",
    "        print(f\"Episode {ep:3d} | Reward: {total_reward}\")\n",
    "\n",
    "# Save final model\n",
    "save_checkpoint()\n"
   ]
  }
 ],
 "metadata": {
  "kernelspec": {
   "display_name": "base",
   "language": "python",
   "name": "python3"
  },
  "language_info": {
   "codemirror_mode": {
    "name": "ipython",
    "version": 3
   },
   "file_extension": ".py",
   "mimetype": "text/x-python",
   "name": "python",
   "nbconvert_exporter": "python",
   "pygments_lexer": "ipython3",
   "version": "3.11.7"
  }
 },
 "nbformat": 4,
 "nbformat_minor": 5
}
