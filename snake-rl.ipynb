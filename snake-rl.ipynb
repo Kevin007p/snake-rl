{
 "cells": [
  {
   "cell_type": "markdown",
   "id": "302fd0e7",
   "metadata": {},
   "source": [
    "# Imports and Setup"
   ]
  },
  {
   "cell_type": "code",
   "execution_count": null,
   "id": "6b78be39",
   "metadata": {},
   "outputs": [
    {
     "name": "stdout",
     "output_type": "stream",
     "text": [
      "pygame 2.6.1 (SDL 2.28.4, Python 3.11.7)\n",
      "Hello from the pygame community. https://www.pygame.org/contribute.html\n"
     ]
    }
   ],
   "source": [
    "import os, random\n",
    "import numpy as np\n",
    "import pygame\n",
    "import matplotlib.pyplot as plt\n",
    "from collections import deque, namedtuple\n",
    "from itertools import count\n",
    "\n",
    "import torch\n",
    "import torch.nn as nn\n",
    "import torch.nn.functional as F\n",
    "import torch.optim as optim\n"
   ]
  },
  {
   "cell_type": "code",
   "execution_count": 2,
   "id": "22c2aadf",
   "metadata": {},
   "outputs": [
    {
     "name": "stdout",
     "output_type": "stream",
     "text": [
      "Using device: cpu\n"
     ]
    }
   ],
   "source": [
    "SEED = 42\n",
    "random.seed(SEED)\n",
    "np.random.seed(SEED)\n",
    "torch.manual_seed(SEED)\n",
    "\n",
    "device = torch.device(\"cuda\" if torch.cuda.is_available() else \"cpu\")\n",
    "print(\"Using device:\", device)\n"
   ]
  },
  {
   "cell_type": "markdown",
   "id": "19da1483",
   "metadata": {},
   "source": [
    "# Snake Environment Definition\n"
   ]
  },
  {
   "cell_type": "code",
   "execution_count": 3,
   "id": "d26459cc",
   "metadata": {},
   "outputs": [],
   "source": [
    "class SnakeEnv:\n",
    "    def __init__(self, width=10, height=10, block_size=20):\n",
    "        pygame.init()\n",
    "        self.width, self.height, self.block = width, height, block_size\n",
    "        # use self.block, not block\n",
    "        self.display = pygame.Surface((self.width * self.block,\n",
    "                                       self.height * self.block))\n",
    "        self.clock = pygame.time.Clock()\n",
    "        self.reset()\n",
    "\n",
    "    def reset(self, seed=None):\n",
    "        if seed is not None:\n",
    "            random.seed(seed)\n",
    "            np.random.seed(seed)\n",
    "        self.direction = (1, 0)\n",
    "        self.snake = [(self.width//2, self.height//2)]\n",
    "        self._place_food()\n",
    "        self.done, self.score = False, 0\n",
    "        return self._get_obs()\n",
    "\n",
    "\n",
    "    def _place_food(self):\n",
    "        while True:\n",
    "            self.food = (random.randrange(self.width),\n",
    "                         random.randrange(self.height))\n",
    "            if self.food not in self.snake:\n",
    "                break\n",
    "\n",
    "    def _get_obs(self):\n",
    "        head_x, head_y = self.snake[0]\n",
    "        dir_x, dir_y = self.direction\n",
    "        food_x, food_y = self.food\n",
    "\n",
    "        # Danger detection: front, right, left\n",
    "        def danger_at(offset):\n",
    "            dx, dy = offset\n",
    "            new_x, new_y = head_x + dx, head_y + dy\n",
    "            return int(\n",
    "                new_x < 0 or new_x >= self.width or\n",
    "                new_y < 0 or new_y >= self.height or\n",
    "                (new_x, new_y) in self.snake\n",
    "            )\n",
    "\n",
    "        left  = (-dir_y, dir_x)\n",
    "        right = (dir_y, -dir_x)\n",
    "        front = (dir_x, dir_y)\n",
    "\n",
    "        danger = [\n",
    "            danger_at(front),\n",
    "            danger_at(right),\n",
    "            danger_at(left)\n",
    "        ]\n",
    "\n",
    "        # Food direction (relative)\n",
    "        food_dx = int(np.sign(food_x - head_x))\n",
    "        food_dy = int(np.sign(food_y - head_y))\n",
    "\n",
    "        # Normalize direction\n",
    "        dir_features = [\n",
    "            int(dir_x == 1), int(dir_x == -1),\n",
    "            int(dir_y == 1), int(dir_y == -1)\n",
    "        ]\n",
    "\n",
    "        return np.array(danger + dir_features + [food_dx, food_dy], dtype=np.float32)\n",
    "\n",
    "\n",
    "\n",
    "    def step(self, action):\n",
    "        dirs = [(-1,0),(0,1),(1,0),(0,-1)]\n",
    "        new_dir = dirs[action]\n",
    "        if (new_dir[0]==-self.direction[0] and\n",
    "            new_dir[1]==-self.direction[1]):\n",
    "            new_dir = self.direction\n",
    "        self.direction = new_dir\n",
    "\n",
    "        head = (self.snake[0][0]+new_dir[0],\n",
    "                self.snake[0][1]+new_dir[1])\n",
    "        if (not 0<=head[0]<self.width or\n",
    "            not 0<=head[1]<self.height or\n",
    "            head in self.snake):\n",
    "            self.done = True\n",
    "            return self._get_obs(), -10, True, {}\n",
    "\n",
    "        self.snake.insert(0, head)\n",
    "        if head == self.food:\n",
    "            reward, self.score = 10, self.score+1\n",
    "            self._place_food()\n",
    "        else:\n",
    "            reward = -0.1\n",
    "            self.snake.pop()\n",
    "\n",
    "        return self._get_obs(), reward, False, {}\n",
    "\n",
    "    # Inside your SnakeEnv class, overwrite render() with:\n",
    "\n",
    "    def render(self):\n",
    "        \"\"\"\n",
    "        Return a (H_px, W_px, 3) uint8 image of the game:\n",
    "         - snake in green, food in red, background black.\n",
    "        \"\"\"\n",
    "        H_px = self.height * self.block\n",
    "        W_px = self.width  * self.block\n",
    "        frame = np.zeros((H_px, W_px, 3), dtype=np.uint8)\n",
    "\n",
    "        # Draw snake\n",
    "        for x, y in self.snake:\n",
    "            y0, y1 = y*self.block, (y+1)*self.block\n",
    "            x0, x1 = x*self.block, (x+1)*self.block\n",
    "            frame[y0:y1, x0:x1] = np.array([0,255,0], dtype=np.uint8)\n",
    "\n",
    "        # Draw food\n",
    "        fx, fy = self.food\n",
    "        y0, y1 = fy*self.block, (fy+1)*self.block\n",
    "        x0, x1 = fx*self.block, (fx+1)*self.block\n",
    "        frame[y0:y1, x0:x1] = np.array([255,0,0], dtype=np.uint8)\n",
    "\n",
    "        return frame\n"
   ]
  },
  {
   "cell_type": "markdown",
   "id": "dd3d30db",
   "metadata": {},
   "source": [
    "# Replay Memory (for DQN)\n"
   ]
  },
  {
   "cell_type": "code",
   "execution_count": 4,
   "id": "4b8a24f0",
   "metadata": {},
   "outputs": [],
   "source": [
    "env = SnakeEnv()\n",
    "\n",
    "\n",
    "# Define a transition tuple\n",
    "Transition = namedtuple('Transition',\n",
    "                        ('state', 'action', 'reward', 'next_state', 'done'))\n",
    "\n",
    "class ReplayMemory:\n",
    "    def __init__(self, capacity):\n",
    "        self.memory = deque(maxlen=capacity)\n",
    "\n",
    "    def push(self, *args):\n",
    "        \"\"\"Save a transition.\"\"\"\n",
    "        self.memory.append(Transition(*args))\n",
    "\n",
    "    def sample(self, batch_size):\n",
    "        \"\"\"Randomly sample a batch of transitions.\"\"\"\n",
    "        return random.sample(self.memory, batch_size)\n",
    "\n",
    "    def __len__(self):\n",
    "        return len(self.memory)\n",
    "\n",
    "\n",
    "# Instantiate and test\n",
    "memory = ReplayMemory(capacity=1000)\n"
   ]
  },
  {
   "cell_type": "markdown",
   "id": "f6b2b464",
   "metadata": {},
   "source": [
    "# DQN Network Definition\n"
   ]
  },
  {
   "cell_type": "code",
   "execution_count": 5,
   "id": "eab9ef37",
   "metadata": {},
   "outputs": [
    {
     "data": {
      "text/plain": [
       "<All keys matched successfully>"
      ]
     },
     "execution_count": 5,
     "metadata": {},
     "output_type": "execute_result"
    }
   ],
   "source": [
    "import torch.nn as nn\n",
    "\n",
    "state_dim  = len(env.reset()) # flattened grid size\n",
    "action_dim = 4                         # up, right, down, left\n",
    "\n",
    "class DQN(nn.Module):\n",
    "    def __init__(self):\n",
    "        super().__init__()\n",
    "        self.net = nn.Sequential(\n",
    "            nn.Linear(state_dim, 128),\n",
    "            nn.ReLU(),\n",
    "            nn.Linear(128, 128),\n",
    "            nn.ReLU(),\n",
    "            nn.Linear(128, action_dim)\n",
    "        )\n",
    "\n",
    "    def forward(self, x):\n",
    "        return self.net(x)\n",
    "\n",
    "# Instantiate policy and target networks\n",
    "policy_net = DQN().to(device)\n",
    "target_net = DQN().to(device)\n",
    "# Initialize target to match policy\n",
    "target_net.load_state_dict(policy_net.state_dict())\n"
   ]
  },
  {
   "cell_type": "markdown",
   "id": "22081967",
   "metadata": {},
   "source": [
    "#  DQN: Action Selection & Q-Network Update\n"
   ]
  },
  {
   "cell_type": "code",
   "execution_count": 6,
   "id": "5aeab4fd",
   "metadata": {},
   "outputs": [],
   "source": [
    "# Cell 8 – Action Selection, Optimizer, and DQN Update\n",
    "\n",
    "import torch.optim as optim\n",
    "import torch.nn.functional as F\n",
    "\n",
    "# ε‑greedy action selection\n",
    "def select_action_dqn(state, eps):\n",
    "    \"\"\"\n",
    "    state: 1D numpy array of length state_dim\n",
    "    eps: float between 0 and 1\n",
    "    returns: int action in [0, action_dim)\n",
    "    \"\"\"\n",
    "    if random.random() < eps:\n",
    "        return random.randrange(action_dim)\n",
    "    # otherwise pick best Q-value action\n",
    "    state_v = torch.from_numpy(state).unsqueeze(0).to(device)   # shape [1, state_dim]\n",
    "    with torch.no_grad():\n",
    "        q_vals = policy_net(state_v)                            # shape [1, action_dim]\n",
    "    return int(q_vals.argmax(dim=1).item())\n",
    "\n",
    "# Optimizer\n",
    "optimizer = optim.Adam(policy_net.parameters(), lr=1e-3)\n",
    "\n",
    "# Single DQN update step\n",
    "def optimize_dqn_step(batch_size, gamma):\n",
    "    if len(memory) < batch_size:\n",
    "        return\n",
    "\n",
    "    # Sample a batch\n",
    "    transitions = memory.sample(batch_size)\n",
    "    batch = Transition(*zip(*transitions))\n",
    "\n",
    "    # Convert to tensors\n",
    "    states      = torch.tensor(batch.state,      dtype=torch.float32, device=device)\n",
    "    actions     = torch.tensor(batch.action,     dtype=torch.int64,   device=device).unsqueeze(1)\n",
    "    rewards     = torch.tensor(batch.reward,     dtype=torch.float32, device=device).unsqueeze(1)\n",
    "    next_states = torch.tensor(batch.next_state, dtype=torch.float32, device=device)\n",
    "    dones       = torch.tensor(batch.done,       dtype=torch.float32, device=device).unsqueeze(1)\n",
    "\n",
    "    # Current Q values\n",
    "    q_values = policy_net(states).gather(1, actions)   # shape [batch_size, 1]\n",
    "\n",
    "    # Next state values from target network\n",
    "    next_q = target_net(next_states).max(1)[0].detach().unsqueeze(1)\n",
    "    expected_q = rewards + gamma * next_q * (1.0 - dones)\n",
    "\n",
    "    # Compute loss and backprop\n",
    "    loss = F.mse_loss(q_values, expected_q)\n",
    "    optimizer.zero_grad()\n",
    "    loss.backward()\n",
    "    optimizer.step()\n"
   ]
  },
  {
   "cell_type": "code",
   "execution_count": 7,
   "id": "d74a210f",
   "metadata": {},
   "outputs": [],
   "source": [
    "config_dqn = {\n",
    "    \"gamma\": 0.99,\n",
    "    \"batch_size\": 64,\n",
    "    \"eps_start\": 1.0,\n",
    "    \"eps_end\": 0.01,\n",
    "    \"eps_decay\": 5000,\n",
    "    \"target_update\": 10,\n",
    "    \"num_episodes\": 1000,\n",
    "    \"ckpt_path\": os.path.join(\"checkpoints\", \"dqn_snake.pth\")\n",
    "}\n",
    "os.makedirs(\"checkpoints\", exist_ok=True)\n"
   ]
  },
  {
   "cell_type": "markdown",
   "id": "01ff09ee",
   "metadata": {},
   "source": [
    "# Save and Load DQN Checkpoints\n"
   ]
  },
  {
   "cell_type": "code",
   "execution_count": 8,
   "id": "de48e91f",
   "metadata": {},
   "outputs": [],
   "source": [
    "def save_checkpoint(model, optimizer, path):\n",
    "    torch.save({\n",
    "        \"model_state_dict\": model.state_dict(),\n",
    "        \"optimizer_state_dict\": optimizer.state_dict()\n",
    "    }, path)\n",
    "\n",
    "def load_checkpoint(model, optimizer, path):\n",
    "    if os.path.exists(path):\n",
    "        checkpoint = torch.load(path, map_location=device)\n",
    "        model.load_state_dict(checkpoint[\"model_state_dict\"])\n",
    "        optimizer.load_state_dict(checkpoint[\"optimizer_state_dict\"])\n",
    "        print(f\"Loaded checkpoint from {path}\")\n",
    "    else:\n",
    "        print(\"No checkpoint found.\")\n"
   ]
  },
  {
   "cell_type": "markdown",
   "id": "46d00272",
   "metadata": {},
   "source": [
    "# DQN Training Loop (Short Test Run)\n"
   ]
  },
  {
   "cell_type": "code",
   "execution_count": 9,
   "id": "538b606b",
   "metadata": {},
   "outputs": [
    {
     "name": "stdout",
     "output_type": "stream",
     "text": [
      "Episode  1 | Reward: -11.00\n",
      "Episode  2 | Reward: -10.60\n",
      "Episode  3 | Reward: -10.50\n",
      "Episode  4 | Reward: -12.40\n",
      "Episode  5 | Reward: -2.20\n",
      "Episode  6 | Reward: -10.70\n",
      "Episode  7 | Reward: -12.00\n",
      "Episode  8 | Reward: -1.90\n",
      "Episode  9 | Reward: -10.60\n"
     ]
    },
    {
     "name": "stderr",
     "output_type": "stream",
     "text": [
      "/var/folders/5t/35w5sh2n3r196t69kjv4ldm00000gn/T/ipykernel_6756/1326463507.py:34: UserWarning: Creating a tensor from a list of numpy.ndarrays is extremely slow. Please consider converting the list to a single numpy.ndarray with numpy.array() before converting to a tensor. (Triggered internally at /Users/runner/work/_temp/anaconda/conda-bld/pytorch_1729647038473/work/torch/csrc/utils/tensor_new.cpp:281.)\n",
      "  states      = torch.tensor(batch.state,      dtype=torch.float32, device=device)\n"
     ]
    },
    {
     "name": "stdout",
     "output_type": "stream",
     "text": [
      "Episode 10 | Reward: -10.60\n",
      "Episode 11 | Reward: -13.00\n",
      "Episode 12 | Reward: -10.70\n",
      "Episode 13 | Reward: -11.00\n",
      "Episode 14 | Reward: -12.80\n",
      "Episode 15 | Reward: -11.70\n",
      "Episode 16 | Reward: -11.10\n",
      "Episode 17 | Reward: -12.00\n",
      "Episode 18 | Reward: -0.80\n",
      "Episode 19 | Reward: -11.20\n",
      "Episode 20 | Reward: -11.40\n"
     ]
    }
   ],
   "source": [
    "episode_rewards = []\n",
    "steps_done = 0\n",
    "\n",
    "def get_epsilon(step):\n",
    "    return config_dqn[\"eps_end\"] + (config_dqn[\"eps_start\"] - config_dqn[\"eps_end\"]) * \\\n",
    "           np.exp(-1. * step / config_dqn[\"eps_decay\"])\n",
    "\n",
    "for ep in range(1, 21):  # short test run\n",
    "    state = env.reset()\n",
    "    total_reward = 0\n",
    "    while True:\n",
    "        eps = get_epsilon(steps_done)\n",
    "        action = select_action_dqn(state, eps)\n",
    "        next_state, reward, done, _ = env.step(action)\n",
    "        memory.push(state, action, reward, next_state, done)\n",
    "        optimize_dqn_step(config_dqn[\"batch_size\"], config_dqn[\"gamma\"])\n",
    "        state = next_state\n",
    "        total_reward += reward\n",
    "        steps_done += 1\n",
    "        if done:\n",
    "            break\n",
    "    episode_rewards.append(total_reward)\n",
    "    if ep % config_dqn[\"target_update\"] == 0:\n",
    "        target_net.load_state_dict(policy_net.state_dict())\n",
    "    print(f\"Episode {ep:2d} | Reward: {total_reward:.2f}\")\n",
    "\n",
    "save_checkpoint(policy_net, optimizer, config_dqn[\"ckpt_path\"])\n"
   ]
  },
  {
   "cell_type": "markdown",
   "id": "1cea929d",
   "metadata": {},
   "source": [
    "# DQN Training Reward Plot\n"
   ]
  },
  {
   "cell_type": "code",
   "execution_count": 10,
   "id": "0bd41e84",
   "metadata": {},
   "outputs": [
    {
     "data": {
      "image/png": "[encoded data removed]",
      "text/plain": [
       "<Figure size 800x400 with 1 Axes>"
      ]
     },
     "metadata": {},
     "output_type": "display_data"
    }
   ],
   "source": [
    "def plot_rewards(rewards, label=\"DQN\", title=\"DQN Training Performance\"):\n",
    "    plt.figure(figsize=(8, 4))\n",
    "    plt.plot(rewards, label=label)\n",
    "    plt.xlabel(\"Episode\")\n",
    "    plt.ylabel(\"Total Reward\")\n",
    "    plt.title(title)\n",
    "    plt.grid(True)\n",
    "    plt.legend()\n",
    "    plt.show()\n",
    "\n",
    "plot_rewards(episode_rewards)\n"
   ]
  },
  {
   "cell_type": "code",
   "execution_count": 11,
   "id": "e56420a2",
   "metadata": {},
   "outputs": [
    {
     "name": "stdout",
     "output_type": "stream",
     "text": [
      "Eval (20 eps): avg=-8.01 ± 4.60\n"
     ]
    }
   ],
   "source": [
    "#Cell 13\n",
    "\n",
    "def evaluate_policy_dqn(net, env, n_episodes=20, max_steps=500):\n",
    "    net.eval()\n",
    "    scores = []\n",
    "    with torch.no_grad():\n",
    "        for _ in range(n_episodes):\n",
    "            state = env.reset()\n",
    "            total = 0\n",
    "            done = False\n",
    "            steps = 0\n",
    "            while not done and steps < max_steps:\n",
    "                state_v = torch.from_numpy(state).float().unsqueeze(0).to(device)\n",
    "                q_vals = net(state_v)\n",
    "                action = q_vals.argmax(dim=1).item()\n",
    "                state, reward, done, _ = env.step(action)\n",
    "                total += reward\n",
    "                steps += 1\n",
    "            scores.append(total)\n",
    "    net.train()\n",
    "    return scores\n",
    "\n",
    "eval_env = SnakeEnv()\n",
    "eval_scores = evaluate_policy_dqn(policy_net, eval_env, n_episodes=20)\n",
    "print(f\"Eval (20 eps): avg={np.mean(eval_scores):.2f} ± {np.std(eval_scores):.2f}\")\n"
   ]
  },
  {
   "cell_type": "markdown",
   "id": "888fd247",
   "metadata": {},
   "source": [
    "# Full DQN Training Loop\n"
   ]
  },
  {
   "cell_type": "code",
   "execution_count": 16,
   "id": "763c1a8f",
   "metadata": {},
   "outputs": [
    {
     "name": "stdout",
     "output_type": "stream",
     "text": [
      "Episode  50 | Avg of last 50): -7.77\n",
      "Episode 100 | Avg of last 50): -4.86\n",
      "Episode 150 | Avg of last 50): -4.01\n",
      "Episode 200 | Avg of last 50): 1.47\n",
      "Episode 250 | Avg of last 50): 12.80\n",
      "Episode 300 | Avg of last 50): 12.03\n",
      "Episode 350 | Avg of last 50): 29.12\n",
      "Episode 400 | Avg of last 50): 56.36\n",
      "Episode 450 | Avg of last 50): 97.24\n",
      "Episode 500 | Avg of last 50): 120.92\n",
      "Episode 550 | Avg of last 50): 135.45\n",
      "Episode 600 | Avg of last 50): 104.57\n",
      "Episode 650 | Avg of last 50): 121.62\n",
      "Episode 700 | Avg of last 50): 98.45\n",
      "Episode 750 | Avg of last 50): 129.11\n",
      "Episode 800 | Avg of last 50): 130.81\n",
      "Episode 850 | Avg of last 50): 129.41\n",
      "Episode 900 | Avg of last 50): 132.27\n",
      "Episode 950 | Avg of last 50): 147.64\n",
      "Episode 1000 | Avg of last 50): 132.33\n"
     ]
    }
   ],
   "source": [
    "def train_dqn_full(env, policy_net, target_net, memory, optimizer, config):\n",
    "    episode_rewards = []\n",
    "    steps_done = 0\n",
    "    max_steps = 500\n",
    "\n",
    "    for ep in range(1, config[\"num_episodes\"] + 1):\n",
    "        state = env.reset()\n",
    "        total_reward = 0\n",
    "\n",
    "        for t in range(max_steps):\n",
    "            eps = get_epsilon(steps_done)\n",
    "            action = select_action_dqn(state, eps)\n",
    "            next_state, reward, done, _ = env.step(action)\n",
    "\n",
    "            memory.push(state, action, reward, next_state, done)\n",
    "            optimize_dqn_step(config[\"batch_size\"], config[\"gamma\"])\n",
    "\n",
    "            state = next_state\n",
    "            total_reward += reward\n",
    "            steps_done += 1\n",
    "\n",
    "            if done:\n",
    "                break\n",
    "\n",
    "        episode_rewards.append(total_reward)\n",
    "\n",
    "        if ep % config[\"target_update\"] == 0:\n",
    "            target_net.load_state_dict(policy_net.state_dict())\n",
    "\n",
    "        if ep % 50 == 0:\n",
    "            avg = np.mean(episode_rewards[-50:])\n",
    "            print(f\"Episode {ep:3d} | Avg of last 50: {avg:.2f}\")\n",
    "\n",
    "\n",
    "    save_checkpoint(policy_net, optimizer, config[\"ckpt_path\"])\n",
    "    return episode_rewards\n",
    "\n",
    "episode_rewards = train_dqn_full(env, policy_net, target_net, memory, optimizer, config_dqn)\n"
   ]
  },
  {
   "cell_type": "markdown",
   "id": "535f8e47",
   "metadata": {},
   "source": [
    "# Rolling Average Reward Plot\n"
   ]
  },
  {
   "cell_type": "code",
   "execution_count": 17,
   "id": "9cd9dcf4",
   "metadata": {},
   "outputs": [
    {
     "data": {
      "image/png": "[encoded data removed]",
      "text/plain": [
       "<Figure size 800x400 with 1 Axes>"
      ]
     },
     "metadata": {},
     "output_type": "display_data"
    }
   ],
   "source": [
    "def plot_rolling_average(rewards, window=50, label=\"DQN\", title=\"Rolling Average Reward\"):\n",
    "    rolling_avg = [np.mean(rewards[max(0, i - window):i+1]) for i in range(len(rewards))]\n",
    "\n",
    "    plt.figure(figsize=(8, 4))\n",
    "    plt.plot(rewards, label=\"Reward\")\n",
    "    plt.plot(rolling_avg, label=f\"Rolling Avg ({window})\")\n",
    "    plt.xlabel(\"Episode\")\n",
    "    plt.ylabel(\"Total Reward\")\n",
    "    plt.title(title)\n",
    "    plt.legend()\n",
    "    plt.grid(True)\n",
    "    plt.show()\n",
    "\n",
    "plot_rolling_average(episode_rewards, label=\"DQN\", title=\"DQN Training Performance\")\n"
   ]
  },
  {
   "cell_type": "code",
   "execution_count": null,
   "id": "da6049a1",
   "metadata": {},
   "outputs": [],
   "source": [
    "class ActorCritic(nn.Module):\n",
    "    def __init__(self, state_dim, action_dim):\n",
    "        super().__init__()\n",
    "        self.shared = nn.Sequential(\n",
    "            nn.Linear(state_dim, 128),\n",
    "            nn.ReLU()\n",
    "        )\n",
    "        self.policy = nn.Sequential(\n",
    "            nn.Linear(128, action_dim),\n",
    "            nn.Softmax(dim=-1)\n",
    "        )\n",
    "        self.value = nn.Linear(128, 1)\n",
    "\n",
    "    def forward(self, x):\n",
    "        x = self.shared(x)\n",
    "        return self.policy(x), self.value(x)"
   ]
  },
  {
   "cell_type": "code",
   "execution_count": null,
   "id": "42b61d19",
   "metadata": {},
   "outputs": [],
   "source": [
    "class RolloutBuffer:\n",
    "    def __init__(self):\n",
    "        self.states     = []\n",
    "        self.actions    = []\n",
    "        self.log_probs  = []\n",
    "        self.rewards    = []\n",
    "        self.dones      = []\n",
    "        self.values     = []\n",
    "\n",
    "    def clear(self):\n",
    "        self.__init__()\n"
   ]
  },
  {
   "cell_type": "code",
   "execution_count": null,
   "id": "6c845511",
   "metadata": {},
   "outputs": [],
   "source": [
    "ppo_config = {\n",
    "    \"gamma\":        0.99,\n",
    "    \"gae_lambda\":   0.95,\n",
    "    \"clip_eps\":     0.2,\n",
    "    \"lr\":           2.5e-4,\n",
    "    \"epochs\":       4,\n",
    "    \"batch_size\":   64,\n",
    "    \"update_steps\": 2048\n",
    "}\n",
    "\n",
    "def compute_gae(rewards, values, dones, gamma, lam):\n",
    "    advantages = []\n",
    "    gae = 0\n",
    "    values = values + [0]  # bootstrap\n",
    "    for t in reversed(range(len(rewards))):\n",
    "        delta = rewards[t] + gamma * values[t + 1] * (1 - dones[t]) - values[t]\n",
    "        gae = delta + gamma * lam * (1 - dones[t]) * gae\n",
    "        advantages.insert(0, gae)\n",
    "    return advantages\n"
   ]
  },
  {
   "cell_type": "code",
   "execution_count": null,
   "id": "2935b3a2",
   "metadata": {},
   "outputs": [],
   "source": [
    "def collect_trajectory(env, model, buffer, steps, max_steps=500):\n",
    "    state = env.reset()\n",
    "    for _ in range(steps):\n",
    "        state_tensor = torch.from_numpy(state).float().unsqueeze(0).to(device)\n",
    "        with torch.no_grad():\n",
    "            probs, value = model(state_tensor)\n",
    "        dist = torch.distributions.Categorical(probs)\n",
    "        action = dist.sample()\n",
    "\n",
    "        next_state, reward, done, _ = env.step(action.item())\n",
    "\n",
    "        buffer.states.append(state)\n",
    "        buffer.actions.append(action.item())\n",
    "        buffer.log_probs.append(dist.log_prob(action).item())\n",
    "        buffer.rewards.append(reward)\n",
    "        buffer.dones.append(done)\n",
    "        buffer.values.append(value.item())\n",
    "\n",
    "        state = next_state\n",
    "        if done:\n",
    "            state = env.reset()\n"
   ]
  },
  {
   "cell_type": "code",
   "execution_count": null,
   "id": "0f70ff54",
   "metadata": {},
   "outputs": [],
   "source": [
    "def ppo_update(model, optimizer, buffer, config):\n",
    "    # Convert to tensors\n",
    "    states = torch.tensor(buffer.states, dtype=torch.float32).to(device)\n",
    "    actions = torch.tensor(buffer.actions).to(device)\n",
    "    old_log_probs = torch.tensor(buffer.log_probs, dtype=torch.float32).to(device)\n",
    "    rewards = buffer.rewards\n",
    "    dones = buffer.dones\n",
    "    values = buffer.values\n",
    "\n",
    "    # Compute advantages and returns\n",
    "    advantages = compute_gae(rewards, values, dones,\n",
    "                             config[\"gamma\"], config[\"gae_lambda\"])\n",
    "    returns = torch.tensor([a + v for a, v in zip(advantages, values)],\n",
    "                           dtype=torch.float32).to(device)\n",
    "    advantages = torch.tensor(advantages, dtype=torch.float32).to(device)\n",
    "    advantages = (advantages - advantages.mean()) / (advantages.std() + 1e-8)\n",
    "\n",
    "    # PPO update over multiple epochs\n",
    "    for _ in range(config[\"epochs\"]):\n",
    "        for i in range(0, len(states), config[\"batch_size\"]):\n",
    "            s_batch = states[i:i+config[\"batch_size\"]]\n",
    "            a_batch = actions[i:i+config[\"batch_size\"]]\n",
    "            r_batch = returns[i:i+config[\"batch_size\"]]\n",
    "            adv_batch = advantages[i:i+config[\"batch_size\"]]\n",
    "            logp_old_batch = old_log_probs[i:i+config[\"batch_size\"]]\n",
    "\n",
    "            probs, values = model(s_batch)\n",
    "            dist = torch.distributions.Categorical(probs)\n",
    "            logp = dist.log_prob(a_batch)\n",
    "            entropy = dist.entropy().mean()\n",
    "\n",
    "            ratio = torch.exp(logp - logp_old_batch)\n",
    "            clipped = torch.clamp(ratio, 1 - config[\"clip_eps\"], 1 + config[\"clip_eps\"]) * adv_batch\n",
    "            loss_clip = -torch.min(ratio * adv_batch, clipped).mean()\n",
    "            loss_value = F.mse_loss(values.squeeze(), r_batch)\n",
    "            loss = loss_clip + 0.5 * loss_value - 0.01 * entropy\n",
    "\n",
    "            optimizer.zero_grad()\n",
    "            loss.backward()\n",
    "            optimizer.step()\n"
   ]
  },
  {
   "cell_type": "code",
   "execution_count": null,
   "id": "b7b54669",
   "metadata": {},
   "outputs": [],
   "source": [
    "env = SnakeEnv()\n",
    "buffer = RolloutBuffer()\n",
    "model = ActorCritic(state_dim=len(env.reset()), action_dim=4).to(device)\n",
    "optimizer = optim.Adam(model.parameters(), lr=ppo_config[\"lr\"])\n",
    "\n",
    "reward_history = []\n",
    "\n",
    "def evaluate_policy(net, env, n_episodes=10, max_steps=500):\n",
    "    net.eval()\n",
    "    scores = []\n",
    "    with torch.no_grad():\n",
    "        for _ in range(n_episodes):\n",
    "            state = env.reset()\n",
    "            total = 0\n",
    "            done = False\n",
    "            steps = 0\n",
    "            while not done and steps < max_steps:\n",
    "                state_v = torch.from_numpy(state).float().unsqueeze(0).to(device)\n",
    "                probs, _ = net(state_v)\n",
    "                action = probs.argmax(dim=1).item()\n",
    "                state, reward, done, _ = env.step(action)\n",
    "                total += reward\n",
    "                steps += 1\n",
    "            scores.append(total)\n",
    "    net.train()\n",
    "    return scores\n",
    "\n",
    "for update in range(1, 101):  # 100 updates\n",
    "    collect_trajectory(env, model, buffer, ppo_config[\"update_steps\"])\n",
    "    ppo_update(model, optimizer, buffer, ppo_config)\n",
    "    buffer.clear()\n",
    "\n",
    "    # Evaluate average reward over 10 episodes\n",
    "    eval_scores = evaluate_policy(model, env, n_episodes=10)\n",
    "    avg_reward = np.mean(eval_scores)\n",
    "    reward_history.append(avg_reward)\n",
    "    print(f\"Update {update:3d} | Avg Reward: {avg_reward:.2f}\")\n"
   ]
  },
  {
   "cell_type": "code",
   "execution_count": null,
   "id": "2c33abf5",
   "metadata": {},
   "outputs": [],
   "source": [
    "plt.figure(figsize=(8, 4))\n",
    "plt.plot(reward_history, label=\"Eval Avg Reward\")\n",
    "plt.title(\"PPO Performance Over Time\")\n",
    "plt.xlabel(\"Update\")\n",
    "plt.ylabel(\"Average Reward\")\n",
    "plt.grid(True)\n",
    "plt.legend()\n",
    "plt.show()\n"
   ]
  },
  {
   "cell_type": "code",
   "execution_count": null,
   "id": "abc82c32",
   "metadata": {},
   "outputs": [],
   "source": [
    "env = SnakeEnv()\n",
    "state_dim = len(env.reset())\n",
    "action_dim = 4\n",
    "\n",
    "model = ActorCritic(state_dim, action_dim).to(device)\n",
    "optimizer = optim.Adam(model.parameters(), lr=1e-4)\n",
    "\n",
    "a2c_rewards = []\n",
    "num_episodes = 500\n",
    "gamma = 0.99\n",
    "\n",
    "for ep in range(1, num_episodes + 1):\n",
    "    state = env.reset()\n",
    "    total_reward = 0\n",
    "    done = False\n",
    "\n",
    "    while not done:\n",
    "        state_tensor = torch.from_numpy(state).float().unsqueeze(0).to(device)\n",
    "        probs, value = model(state_tensor)\n",
    "        dist = torch.distributions.Categorical(probs)\n",
    "        action = dist.sample()\n",
    "        log_prob = dist.log_prob(action)\n",
    "\n",
    "        next_state, reward, done, _ = env.step(action.item())\n",
    "        next_state_tensor = torch.from_numpy(next_state).float().unsqueeze(0).to(device)\n",
    "        _, next_value = model(next_state_tensor)\n",
    "\n",
    "        # Compute target and advantage\n",
    "        target = reward + (1 - done) * gamma * next_value.item()\n",
    "        advantage = target - value.item()\n",
    "\n",
    "        # Compute loss\n",
    "        policy_loss = -log_prob * advantage\n",
    "        value_loss = F.mse_loss(value, torch.tensor([[target]], device=device))\n",
    "        loss = policy_loss + value_loss\n",
    "\n",
    "        # Backprop\n",
    "        optimizer.zero_grad()\n",
    "        loss.backward()\n",
    "        optimizer.step()\n",
    "\n",
    "        state = next_state\n",
    "        total_reward += reward\n",
    "\n",
    "    a2c_rewards.append(total_reward)\n",
    "    if ep % 10 == 0:\n",
    "        avg = np.mean(a2c_rewards[-10:])\n",
    "        print(f\"Episode {ep:3d} | Reward: {total_reward:.2f} | Avg(10): {avg:.2f}\")\n"
   ]
  },
  {
   "cell_type": "code",
   "execution_count": null,
   "id": "dfbcedcf",
   "metadata": {},
   "outputs": [],
   "source": [
    "window = 50\n",
    "rolling_avg = [np.mean(a2c_rewards[max(0, i-window):i+1]) for i in range(len(a2c_rewards))]\n",
    "plt.plot(rolling_avg, label=\"Rolling Avg\")\n"
   ]
  }
 ],
 "metadata": {
  "kernelspec": {
   "display_name": "base",
   "language": "python",
   "name": "python3"
  },
  "language_info": {
   "codemirror_mode": {
    "name": "ipython",
    "version": 3
   },
   "file_extension": ".py",
   "mimetype": "text/x-python",
   "name": "python",
   "nbconvert_exporter": "python",
   "pygments_lexer": "ipython3",
   "version": "3.11.7"
  }
 },
 "nbformat": 4,
 "nbformat_minor": 5
}
